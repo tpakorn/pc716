{
 "cells": [
  {
   "cell_type": "markdown",
   "metadata": {},
   "source": [
    "# Lecture 2: Time Integration Methods\n",
    "In this lecture, we will explore different time integration methods for simulating the motion of a particle in a constant electromagnetic field.\n",
    "\n",
    "Time integration methods are numerical techniques used to approximate the solutions of ordinary differential equations (ODEs) over a sequence of discrete time steps. These methods play a crucial role in simulating dynamic systems and physical processes that evolve over time. In the context of computational electromagnetics and plasma physics, time integration is essential for accurately modeling the interactions between electromagnetic fields and charged particles."
   ]
  },
  {
   "cell_type": "markdown",
   "id": "af3c9c4c",
   "metadata": {},
   "source": [
    "# Explicit and Implicit Numerical Integration Schemes\n",
    "\n",
    "Numerical integration schemes are essential tools in computational physics for approximating the solutions of ordinary differential equations (ODEs) and simulating the behavior of dynamical systems. Two main categories of numerical integration schemes are explicit and implicit methods, each with its own advantages and considerations.\n",
    "\n",
    "## Explicit\n",
    "\n",
    "In an explicit numerical integration scheme, the solution at the next time step is computed explicitly using the information from the current time step. One of the simplest explicit methods is Euler's method. Given an ODE $\\frac{dy}{dt} = f(t, y)$ and an initial condition $y(t_0) = y_0$, the explicit Euler's method updates the solution as:\n",
    "\n",
    "$$\n",
    "y_{n+1} = y_n + \\Delta t \\cdot f(t_n, y_n)\n",
    "$$\n",
    "\n",
    "Explicit methods are generally easy to implement and computationally efficient. However, they may have limitations in terms of stability and accuracy, especially for stiff or oscillatory systems.\n",
    "\n",
    "## Implicit\n",
    "\n",
    "In an implicit numerical integration scheme, the solution at the next time step is obtained by solving an equation that involves both the current and future values of the solution. This often requires iterative methods to find the solution. One common implicit method is the backward Euler method. Given the same ODE and initial condition, the backward Euler's method updates the solution as:\n",
    "\n",
    "$$\n",
    "y_{n+1} = y_n + \\Delta t \\cdot f(t_{n+1}, y_{n+1})\n",
    "$$\n",
    "\n",
    "Implicit methods are more stable than explicit methods and can handle stiff systems more effectively. They are particularly useful when the time step needs to be large or when dealing with complex systems.\n",
    "\n",
    "## Comparison and Considerations\n",
    "\n",
    "Explicit methods are generally easier to implement and compute, but they may require smaller time steps for stability. Implicit methods offer better stability and accuracy but involve solving nonlinear equations at each time step, which can be computationally expensive.\n",
    "\n",
    "The choice between explicit and implicit methods depends on the specific characteristics of the problem at hand, including stability requirements, desired accuracy, and computational resources."
   ]
  },
  {
   "cell_type": "markdown",
   "id": "ea946676",
   "metadata": {},
   "source": [
    "# Example: Lorentz Equation\n",
    "\n",
    "As an illustrative example for applying time integration methods, let's consider the Lorentz equation, which describes the motion of a charged particle in an electromagnetic field. The Lorentz equation can be written as follows:\n",
    "\n",
    "$$\n",
    "\\frac{d\\mathbf{v}}{dt} = \\frac{q}{m} \\left( \\mathbf{E} + \\mathbf{v} \\times \\mathbf{B} \\right)\n",
    "$$\n",
    "\n",
    "where:\n",
    "- $\\mathbf{v}$ is the velocity vector of the particle,\n",
    "- $\\mathbf{E}$ is the electric field vector,\n",
    "- $\\mathbf{B}$ is the magnetic field vector,\n",
    "- $q$ is the charge of the particle,\n",
    "- $m$ is the mass of the particle.\n",
    "\n",
    "\n",
    "To discretize this equation, we'll use a time step $\\Delta t$ and update the particle's velocity and position as follows:\n",
    "\n",
    "$$\n",
    "\\Delta \\mathbf{v} = \\frac{q}{m} \\left( \\mathbf{E} + \\mathbf{v} \\times \\mathbf{B} \\right) \\cdot \\Delta t\n",
    "$$\n",
    "\n",
    "$$\n",
    "\\Delta \\mathbf{x} = \\mathbf{v} \\cdot \\Delta t\n",
    "$$\n",
    "\n",
    "In this example, we'll use the Lorentz equation to simulate the motion of a charged particle in a constant electromagnetic field using various time integration methods that we've discussed.\n",
    "\n",
    "To begin, we'll need to define the initial conditions, such as the particle's initial position, velocity, charge, mass, and the components of the electric and magnetic fields. We'll then apply the chosen time integration methods to update the particle's velocity and position over a sequence of discrete time steps. The resulting trajectory of the particle will provide insights into its motion under the influence of the electromagnetic field.\n",
    "\n",
    "Show that in a constant cross field $\\mathbf{E} = (0,E,0)$ and $\\mathbf{B} = (0,0,B)$ that particle path obeys the following parametric equations\n",
    "\n",
    "$$\n",
    "x(t) = R (\\omega t - \\sin \\omega t)\n",
    "$$\n",
    "\n",
    "$$\n",
    "y(t) = R (1- \\cos \\omega t)\n",
    "$$\n",
    "\n",
    "where $\\omega = \\frac{qB}{m}$ and $R = \\frac{m E}{q B^2}$.\n",
    "\n",
    "<div style=\"text-align:center\">\n",
    "    <figure>\n",
    "        <img src=\"cycloid.gif\" alt=\"cycloid\" style=\"width: 1000;\">\n",
    "        <figcaption>Fig.1 Cycloid Motion</figcaption>\n",
    "    </figure>\n",
    "</div>"
   ]
  },
  {
   "cell_type": "markdown",
   "metadata": {},
   "source": [
    "## Euler's First-Order Scheme\n",
    "\n",
    "Euler's method is a simple and straightforward time integration technique. Given an initial state $(x_0, y_0)$ and an ordinary differential equation $\\frac{dx}{dt} = f(x, y)$ and $\\frac{dy}{dt} = g(x, y)$, the Euler's method updates the state at each time step using the following formula:\n",
    "\n",
    "$$\n",
    "x_{i+1} = x_i + f(x_i, y_i) \\cdot \\Delta t\n",
    "$$\n",
    "$$\n",
    "y_{i+1} = y_i + g(x_i, y_i) \\cdot \\Delta t\n",
    "$$\n",
    "\n",
    "where $\\Delta t$ is the time step size, and $f(x, y)$ and $g(x, y)$ are the functions defining the derivatives in the x and y directions, respectively.\n",
    "\n",
    "<div style=\"text-align:center\">\n",
    "    <figure>\n",
    "        <img src=\"euler.svg\" alt=\"Euler's Method\" style=\"width: 400px;background-color: #EEE;\">\n",
    "        <figcaption>Fig.2 Euler's Method</figcaption>\n",
    "    </figure>\n",
    "</div>"
   ]
  },
  {
   "cell_type": "markdown",
   "metadata": {},
   "source": [
    "### Implementation\n",
    "Let's implement Euler's first-order scheme for simulating the projectile motion in a constant electromagnetic field."
   ]
  },
  {
   "cell_type": "code",
   "execution_count": null,
   "id": "e23a738a",
   "metadata": {},
   "outputs": [],
   "source": [
    "import numpy as np\n",
    "# Define Parameters\n",
    "x0 = 0.0  # meters\n",
    "y0 = 0.0  # meters\n",
    "initial_velocity = 0.0  # m/s\n",
    "initial_angle = 0  # degrees\n",
    "\n",
    "# field parameters\n",
    "E = 1\n",
    "B = 1\n",
    "\n",
    "# Time step size for the simulation\n",
    "dt = 0.01  # seconds\n",
    "\n",
    "# Number of time steps to simulate\n",
    "num_steps = 5000"
   ]
  },
  {
   "cell_type": "code",
   "execution_count": null,
   "metadata": {},
   "outputs": [],
   "source": [
    "import numpy as np\n",
    "\n",
    "# Implement Euler's first-order scheme\n",
    "def euler_method(dt, num_steps, acceleration_function):\n",
    "    # Initialize arrays to store positions and velocities\n",
    "    x_euler = np.zeros(num_steps)\n",
    "    y_euler = np.zeros(num_steps)\n",
    "    vx_euler = np.zeros(num_steps)\n",
    "    vy_euler = np.zeros(num_steps)\n",
    "    \n",
    "    # Initial conditions\n",
    "    x_euler[0] = x0\n",
    "    y_euler[0] = y0\n",
    "    vx_euler[0] = initial_velocity*np.cos(initial_angle)\n",
    "    vy_euler[0] = initial_velocity*np.sin(initial_angle)\n",
    "    \n",
    "    # Time integration loop\n",
    "    for i in range(1, num_steps):\n",
    "        ax, ay = acceleration_function(vx_euler[i - 1], vy_euler[i - 1], E, B)\n",
    "        \n",
    "        # Update velocities and positions using Euler's method\n",
    "        # ...\n",
    "    \n",
    "    return x_euler, y_euler"
   ]
  },
  {
   "cell_type": "markdown",
   "metadata": {},
   "source": [
    "### Simulation and Visualization\n",
    "Let's simulate the projectile motion using Euler's first-order scheme and visualize the trajectory."
   ]
  },
  {
   "cell_type": "code",
   "execution_count": null,
   "id": "538708e5",
   "metadata": {},
   "outputs": [],
   "source": [
    "import numpy as np\n",
    "\n",
    "# Function to calculate constant field acceleration\n",
    "def constant_field_acceleration(vx, vy, E, B):\n",
    "    \n",
    "    # Calculate acceleration components using Lorentz force equation\n",
    "    # ...\n",
    "    \n",
    "    return ax, ay\n"
   ]
  },
  {
   "cell_type": "markdown",
   "id": "f3c1e2e0",
   "metadata": {},
   "source": [
    "### Plot Euler Trajectory"
   ]
  },
  {
   "cell_type": "code",
   "execution_count": null,
   "id": "c5d8e98b",
   "metadata": {},
   "outputs": [],
   "source": [
    "import pylab as plt"
   ]
  },
  {
   "cell_type": "markdown",
   "metadata": {},
   "source": [
    "## Leapfrog Method\n",
    "\n",
    "The leapfrog method is a second-order implicit time integration technique commonly used for conservative systems. It updates positions and velocities at alternating time steps, leading to improved accuracy and energy conservation.\n",
    "\n",
    "For an ODE,\n",
    "\n",
    "$$\n",
    "\\dfrac{d y}{d t} = f(y(t),t)\n",
    "$$\n",
    "\n",
    "We write\n",
    "\n",
    "$$\n",
    "\\dfrac{y_\\text{new} - y_\\text{old}}{\\Delta t} = f((y_\\text{new} + y_\\text{old})/2, t)\n",
    "$$\n",
    "\n",
    "where $y_\\text{new} = y(t+\\Delta t/2)$, and $y_\\text{old} = y(t-\\Delta t/2)$. This is an implicit equation for $y_\\text{new}$, but it can be solved by iteration.\n",
    "\n",
    "If we define angular cyclotron frequency vector $\\mathbf{\\Omega} = q\\mathbf{B}/m$ and normalized electric field $\\mathbf{\\Sigma} = q\\mathbf{E}/m$, then the Lorentz force becomes\n",
    "\n",
    "$$\n",
    "\\dfrac{dv}{dt} = \\mathbf{\\Omega} \\times \\mathbf{v} + \\mathbf{\\Sigma}\n",
    "$$\n",
    "\n",
    "Show that the implitcit leapfrog method gives\n",
    "\n",
    "$$\n",
    "v_\\text{new} + \\mathbf{A} \\times v_\\text{new} = \\mathbf{C}\n",
    "$$\n",
    "\n",
    "where $\\mathbf{A} = \\mathbf{\\Omega} \\Delta t/2$ and $\\mathbf{C} = v_\\text{old} + \\Delta t (\\mathbf{\\Sigma}  + v_\\text{old} \\times \\mathbf{\\Omega}/2)$.\n",
    "\n",
    "Show that we can solve for $v_\\text{new}$ by iteration using\n",
    "\n",
    "$$\n",
    "v_\\text{new} = \\dfrac{\\mathbf{C} + \\mathbf{A} \\mathbf{A} \\cdot \\mathbf{C} - \\mathbf{A} \\times \\mathbf{C}}{1+ A^2}\n",
    "$$\n",
    "\n",
    "Then update the new position using\n",
    "$$\n",
    "x_\\text{new} = x_\\text{old} + v_\\text{new} \\Delta t \n",
    "$$\n",
    "\n",
    "For our cross-fields $\\mathbf{E} = E_y \\hat{j}$ and $\\mathbf{B} = B_z \\hat{k}$, show that we can update the new velocities $(v_x',v_y')$ from the old one $(v_x,v_y)$ using\n",
    "\n",
    "\\begin{align*}\n",
    "v_x' &= \\dfrac{v_x + v_y \\Omega \\Delta t}{1+(\\Omega \\Delta t/2)^2} \\\\\n",
    "v_y' &= \\dfrac{v_y - v_x \\Omega \\Delta t + \\Sigma \\Delta t}{1+(\\Omega \\Delta t/2)^2} \\\\ \n",
    "\\end{align*}"
   ]
  },
  {
   "cell_type": "markdown",
   "metadata": {},
   "source": [
    "### Implementation\n",
    "Let's implement the leapfrog method for simulating the projectile motion in a constant electromagnetic field."
   ]
  },
  {
   "cell_type": "code",
   "execution_count": null,
   "metadata": {},
   "outputs": [],
   "source": [
    "def leapfrog_method(dt, num_steps, E, B):\n",
    "    # Initialize arrays to store positions and velocities\n",
    "    x_leapfrog = np.zeros(num_steps)\n",
    "    y_leapfrog = np.zeros(num_steps)\n",
    "    vx_leapfrog = np.zeros(num_steps)\n",
    "    vy_leapfrog = np.zeros(num_steps)\n",
    "    \n",
    "    # Initial conditions\n",
    "    x_leapfrog[0] = x0\n",
    "    y_leapfrog[0] = y0\n",
    "    vx_leapfrog[0] = initial_velocity * np.cos(initial_angle)\n",
    "    vy_leapfrog[0] = initial_velocity * np.sin(initial_angle)\n",
    "    \n",
    "    # nommalized fields\n",
    "    sigma = q_m * E\n",
    "    omega = q_m * B\n",
    "\n",
    "    # Time integration loop\n",
    "    for i in range(1, num_steps):\n",
    "        \n",
    "        # Update velocities using leapfrog method (half time-step)\n",
    "        \n",
    "        # Update positions using updated velocities\n",
    "    \n",
    "    return x_leapfrog, y_leapfrog"
   ]
  },
  {
   "cell_type": "markdown",
   "metadata": {},
   "source": [
    "### Plot Leapfrog"
   ]
  },
  {
   "cell_type": "code",
   "execution_count": null,
   "metadata": {},
   "outputs": [],
   "source": []
  },
  {
   "cell_type": "markdown",
   "id": "bff3f291",
   "metadata": {},
   "source": [
    "# Analytics\n",
    "\n",
    "$$\n",
    "x(t) = R (\\omega t - \\sin \\omega t)\n",
    "$$\n",
    "\n",
    "$$\n",
    "y(t) = R (1- \\cos \\omega t)\n",
    "$$\n",
    "\n",
    "where $\\omega = \\frac{qB}{m}$ and $R = \\frac{m E}{q B^2}$."
   ]
  },
  {
   "cell_type": "markdown",
   "id": "b32e8252",
   "metadata": {},
   "source": [
    "# Compare three cases:\n",
    "- Theory\n",
    "- Euler\n",
    "- Leap-frog\n",
    "\n",
    "1. Plot all the three paths\n",
    "2. Based on the theory, what are the errors as you increase the timesteps?"
   ]
  }
 ],
 "metadata": {
  "kernelspec": {
   "display_name": "base",
   "language": "python",
   "name": "python3"
  },
  "language_info": {
   "codemirror_mode": {
    "name": "ipython",
    "version": 3
   },
   "file_extension": ".py",
   "mimetype": "text/x-python",
   "name": "python",
   "nbconvert_exporter": "python",
   "pygments_lexer": "ipython3",
   "version": "3.9.17"
  }
 },
 "nbformat": 4,
 "nbformat_minor": 5
}

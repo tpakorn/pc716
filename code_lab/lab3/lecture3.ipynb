{
 "cells": [
  {
   "cell_type": "markdown",
   "metadata": {},
   "source": [
    "# Lecture 3: Motion of a Single Plasma Particle\n",
    "\n",
    "<ins>Reference</ins>: Ch. 3, *Bellan, Paul M. Fundamentals of plasma physics. Cambridge university press, 2008.*\n",
    "\n",
    "## Guiding Center Approximation\n",
    "\n",
    "The guiding center approximation is a simplification used in plasma physics to simplify the analysis of charged particle motion in a magnetic field. It is particularly useful when the gyration (circular motion) of particles around magnetic field lines is much faster than their drift motion. The key idea is to treat the particle as if it moves along a \"guiding center\" trajectory, which represents the average motion of the particle over many gyration periods.\n",
    "\n",
    "In the guiding center approximation, the four drift velocities mentioned earlier can be calculated using various mathematical techniques, including averaging over the gyration motion. This approximation allows researchers to describe the particle's motion more conveniently, making it easier to analyze and predict the behavior of particles in complex magnetic field configurations.\n",
    "\n",
    "By using the guiding center approximation and considering the four drift velocities, we can gain valuable insights into the behavior of charged particles in plasmas and magnetic confinement devices, ultimately advancing our understanding of fusion energy research and other plasma-related phenomena.\n",
    "\n",
    "<div style=\"text-align:center\">\n",
    "    <figure>\n",
    "        <img src=\"gc.svg\" alt=\"Guiding Center Illustration\" style=\"width: 600px;background-color: white;\">\n",
    "        <figcaption>Fig.1 Guiding Center</figcaption>\n",
    "    </figure>\n",
    "</div>\n",
    "\n",
    "## Drift Theory\n",
    "\n",
    "Drift theory is a framework used in plasma physics to describe the motion of charged particles in a magnetic field. It helps us understand how these particles move in addition to their gyration (circular motion) around magnetic field lines. Drift theory is particularly useful when analyzing the behavior of charged particles in a tokamak, a type of device used for controlled nuclear fusion research, or in other plasma confinement systems.\n",
    "\n",
    "$$\n",
    "\\mathbf{v}_{\\perp g c}=\\mathbf{v}_E+\\mathbf{v}_{\\nabla B}+\\mathbf{v}_c+\\mathbf{v}_P\n",
    "$$\n",
    "\n",
    "In drift theory, there are four main drift velocities that describe particle motion:\n",
    "\n",
    "1. **E × B Drift**:\n",
    "   - Occurs due to the interaction between the electric field (E) and the magnetic field (B).\n",
    "   - Particles experience a force perpendicular to both E and B, causing them to drift in a direction perpendicular to both E and B.\n",
    "\n",
    "   $$\\mathbf{v}_E=\\frac{\\mathbf{E} \\times \\mathbf{B}}{B^2}$$\n",
    "\n",
    "2. **Grad B Drift**:\n",
    "   - Results from spatial variations in the magnetic field strength (B).\n",
    "   - Particles tend to drift from regions of lower magnetic field strength to regions of higher magnetic field strength.\n",
    "\n",
    "   $$\\mathbf{v}_{\\nabla B}=-\\frac{m v_{L 0}^2}{2 q B^3} \\nabla B \\times \\mathbf{B}$$\n",
    "\n",
    "3. **Curvature Drift**:\n",
    "   - Arises when particles follow curved magnetic field lines.\n",
    "   - Particles experience a drift motion perpendicular to the local curvature of the field lines.\n",
    "   \n",
    "   $$\\mathbf{v}_c=-\\frac{m v_{\\| g c}^2}{q B^2} \\widehat{B} \\cdot \\nabla \\widehat{B} \\times \\mathbf{B}=\\frac{1}{q B^2}\\left(\\frac{m v_{\\| g c}^2 \\hat{R}}{R}\\right) \\times \\mathbf{B}$$\n",
    "\n",
    "4. **Polarization Drift**:\n",
    "   - A hgiher order drift velocity that arises from the time variation of the electric field (E) and magnetic field (B).\n",
    "   \n",
    "   $$\\mathbf{v}_P=-\\frac{m}{q B^2}\\left[\\frac{\\mathrm{d}}{\\mathrm{d} t}\\left(\\mathbf{v}_E+\\mathbf{v}_{\\nabla B}+\\mathbf{v}_c\\right)\\right] \\times \\mathbf{B}$$\n",
    "\n",
    "The four drift velocities described above play a crucial role in understanding the behavior of charged particles in magnetic fields, especially in complex plasma environments."
   ]
  },
  {
   "cell_type": "markdown",
   "metadata": {},
   "source": [
    "## Numerical Integration\n",
    "\n",
    "Now it is useful to generalize our result from Lecture 2 for applying the method to any given temporal and spatial dependent field $\\mathbf{E}(\\mathbf{x},t)$ and $\\mathbf{B}(\\mathbf{x},t)$.\n",
    "\n",
    "We can write the equation of motion as\n",
    "\n",
    "$$\n",
    "\\begin{align*}\n",
    "\\frac{d\\mathbf{x}}{dt} &= \\mathbf{v} \\\\\n",
    "\\frac{d\\mathbf{v}}{dt} &= \\frac{q}{m} \\left( \\mathbf{E}(\\mathbf{x},t) + \\mathbf{v} \\times \\mathbf{B}(\\mathbf{x},t) \\right)\n",
    "\\end{align*}\n",
    "$$\n",
    "\n",
    "Let us define a state vector $\\mathbf{z} = (\\mathbf{x},\\mathbf{v})$ and a vector field $\\mathbf{F}(\\mathbf{z},t) = (\\mathbf{v},\\frac{q}{m} \\left( \\mathbf{E}(\\mathbf{x},t) + \\mathbf{v} \\times \\mathbf{B}(\\mathbf{x},t) \\right))$.\n",
    "\n",
    "Then the equation of motion becomes\n",
    "\n",
    "$$\n",
    "\\frac{d\\mathbf{z}}{dt} = \\mathbf{F}(\\mathbf{z},t)\n",
    "$$\n",
    "\n",
    "This is a first order ordinary differential equation (ODE) with initial condition $\\mathbf{z}(t_0) = \\mathbf{z}_0$, which can be solved numerically using the method described in Lecture 2.\n",
    "\n",
    "Let us pick an implicit leapfrog method for the time integration. The method is second order accurate in time and symplectic, which means that it conserves the phase space volume. The method, previously derived, is given by\n",
    "\n",
    "\n",
    "$$\n",
    "\\begin{align*}\n",
    "v_\\text{new} &= \\dfrac{\\mathbf{C} + \\mathbf{A} \\mathbf{A} \\cdot \\mathbf{C} - \\mathbf{A} \\times \\mathbf{C}}{1+ A^2}\\\\\n",
    "x_\\text{new} &= x_\\text{old} + v_\\text{new} \\Delta t \n",
    "\\end{align*}\n",
    "$$\n",
    "\n",
    "where $\\mathbf{A} = \\mathbf{\\Omega} \\Delta t/2$, $\\mathbf{C} = v_\\text{old} + \\Delta t (\\mathbf{\\Sigma}  + v_\\text{old} \\times \\mathbf{\\Omega}/2)$, $\\mathbf{\\Omega} = q\\mathbf{B}/m$, and $\\mathbf{\\Sigma} = q\\mathbf{E}/m$."
   ]
  },
  {
   "cell_type": "markdown",
   "metadata": {},
   "source": [
    "## 3D visualization with ipympl\n",
    "\n",
    "To see interactive plot in jupyter notebook, you can install ipympl\n",
    "> pip install ipympl\n",
    "\n",
    "To toggle between widget and inline plot, you can use the following commands\n",
    "\n",
    ">%matplotlib widget\n",
    "\n",
    ">%matplotlib inline"
   ]
  },
  {
   "cell_type": "code",
   "execution_count": null,
   "metadata": {},
   "outputs": [],
   "source": [
    "# pip install ipympl"
   ]
  },
  {
   "cell_type": "markdown",
   "metadata": {},
   "source": [
    "## Update and 3D Plot Functions\n",
    "\n",
    "We define 3 functions below for updating state of the particle, and plotting the particle trajectory. We will use these functions for all the exercises in this notebook."
   ]
  },
  {
   "cell_type": "code",
   "execution_count": null,
   "metadata": {},
   "outputs": [],
   "source": [
    "import numpy as np\n",
    "import pylab as pl\n",
    "\n",
    "# Update velocity using implicit leapfrog method\n",
    "def update_velocity(v_old, E, B, dt):\n",
    "    q_m = 1.0 # Charge-to-mass ratio\n",
    "    Omega = q_m * B\n",
    "    Sigma = q_m * E\n",
    "    A = Omega * dt / 2\n",
    "    C = v_old + dt * (Sigma + np.cross(v_old, Omega)/ 2)\n",
    "    v_new = (C + A*(np.dot(A,C)-np.cross(A,C)))/(1+np.linalg.norm(A)**2)\n",
    "    return v_new\n",
    "\n",
    "# Update position using implicit leapfrog method\n",
    "def update_position(num_steps, dt, x0, v0, electric_field, magnetic_field):\n",
    "    # Time array\n",
    "    t = np.arange(0, num_steps * dt, dt)\n",
    "\n",
    "    # Initialize arrays to store particle positions and velocities\n",
    "    x = np.zeros((num_steps, 3))\n",
    "    v = np.zeros((num_steps, 3))\n",
    "\n",
    "    # Set initial conditions\n",
    "    x[0] = x0\n",
    "    v[0] = v0\n",
    "\n",
    "    # Time integration loop using implicit leapfrog method\n",
    "    for i in range(1, num_steps):\n",
    "        E = electric_field(x[i - 1], t[i - 1])\n",
    "        B = magnetic_field(x[i - 1], t[i - 1])\n",
    "        \n",
    "        # Update velocity using the Lorentz force equation\n",
    "        v_new = update_velocity(v[i - 1], E, B, dt)\n",
    " \n",
    "        # Update position\n",
    "        x[i] = x[i - 1] + v_new * dt\n",
    "        \n",
    "        # Update velocity using updated position and magnetic field\n",
    "        v[i] = v_new\n",
    "    \n",
    "    return x, v, t\n",
    "\n",
    "# Plot 3D trajectory with matplotlib and ipympl\n",
    "def plot3D(x, title):\n",
    "    pl.close('all')\n",
    "    %matplotlib widget\n",
    "    fig = pl.figure()\n",
    "    ax = fig.add_subplot(projection='3d')\n",
    "    ax.plot3D(x[:, 0], x[:, 1], x[:, 2])\n",
    "    ax.set_xlabel('x')\n",
    "    ax.set_ylabel('y')\n",
    "    ax.set_zlabel('z')\n",
    "    fig.canvas.header_visible = False\n",
    "    pl.axis('equal')\n",
    "    pl.title(title)\n",
    "    pl.tight_layout()\n",
    "    pl.show()"
   ]
  },
  {
   "cell_type": "markdown",
   "metadata": {},
   "source": [
    "### Exercise 1: Uniform Electromagnetic Field\n",
    "\n",
    "We consider a motion of a charged particle in a uniform electromagnetic field $\\mathbf{E} = E_0 \\hat{x}$ and $\\mathbf{B} = B_0 \\hat{z}$."
   ]
  },
  {
   "cell_type": "code",
   "execution_count": null,
   "metadata": {},
   "outputs": [],
   "source": [
    "# Electric field function (customize as needed)\n",
    "def electric_field(x, t):\n",
    "    # Example: A uniform electric field in the x-direction\n",
    "    Ex = 1.0\n",
    "    Ey = 0.0\n",
    "    Ez = 0.0\n",
    "    return np.array([Ex, Ey, Ez])\n",
    "\n",
    "# Magnetic field function (customize as needed)\n",
    "def magnetic_field(x, t):\n",
    "    # Example: A uniform magnetic field in the z-direction\n",
    "    Bx = 0.0\n",
    "    By = 0.0\n",
    "    Bz = 1.0\n",
    "    return np.array([Bx, By, Bz])"
   ]
  },
  {
   "cell_type": "code",
   "execution_count": null,
   "metadata": {},
   "outputs": [],
   "source": [
    "# Initial conditions\n",
    "x0 = np.array([0.0, 0.0, 0.0])  # Initial position as a vector [x, y, z]\n",
    "v0 = np.array([1.0, 1.0, 1.0])  # Initial velocity as a vector [vx, vy, vz]\n",
    "\n",
    "# Time parameters\n",
    "dt = 0.01  # Time step\n",
    "num_steps = 5000  # Number of time steps\n",
    "\n",
    "x, v, t = update_position(num_steps, dt, x0, v0, electric_field, magnetic_field)\n",
    "plot3D(x, 'Uniform E and B fields')"
   ]
  },
  {
   "cell_type": "markdown",
   "metadata": {},
   "source": [
    "### Exercise 2: Line Charge and Magnetic Field\n",
    "\n",
    "Calculate the motion of a particle in the steady state electric field produced by a line charge $\\lambda$ along the $z$ axis and a steady state magnetic field \n",
    "\n",
    "$$\\mathbf{B} = B_0 \\hat{z}$$\n",
    "\n",
    "Obtain an approximate solution using drift theory.\n",
    "\n",
    "*Hint:* for the drift theory show that the electric field has the form \n",
    "\n",
    "$$\\mathbf{E} = \\frac{\\lambda}{2 \\pi r} \\hat{r}$$\n",
    "\n",
    "Assume that $\\lambda$ is small for approximate solutions."
   ]
  },
  {
   "cell_type": "code",
   "execution_count": null,
   "metadata": {},
   "outputs": [],
   "source": [
    "def electric_field_line(x, t):\n",
    "    # modify this for a line charge\n",
    "    Ex = 0.0\n",
    "    Ey = 0.0\n",
    "    Ez = 0.0\n",
    "    return np.array([Ex, Ey, Ez])"
   ]
  },
  {
   "cell_type": "code",
   "execution_count": null,
   "metadata": {},
   "outputs": [],
   "source": [
    "# Initial conditions\n",
    "x0 = np.array([2.0, 0.0, 0.0])  # Initial position as a vector [x, y, z]\n",
    "v0 = np.array([0.0, 1.0, 0.0])  # Initial velocity as a vector [vx, vy, vz]\n",
    "\n",
    "# Time parameters\n",
    "dt = 0.01  # Time step\n",
    "num_steps = 10000  # Number of time steps\n",
    "\n",
    "x, v, t = update_position(num_steps, dt, x0, v0, electric_field_line, magnetic_field)\n",
    "plot3D(x, 'Uniform B with Line Charge')"
   ]
  },
  {
   "cell_type": "markdown",
   "metadata": {},
   "source": [
    "### Exercise 3: Toroidal Coils\n",
    "\n",
    "Consider the magnetic field produced by a toroidal coil system; this coil consists of a single wire threading the hole of a torus (donut) $N$ times with the $N$ turns evenly arranged around the circumference of the torus. Use Ampere’s law to show that the magnetic field is in the toroidal direction and has the form\n",
    "$$\n",
    "\\mathbf{B} = \\dfrac{\\mu_0 NI}{2 \\pi r} \\hat{\\phi}\n",
    "$$\n",
    "where $N$ is the total number of turns in the coil and $I$ is the current through the turn. What are the drifts for a particle having finite initial velocities both parallel and perpendicular to this toroidal field."
   ]
  },
  {
   "cell_type": "code",
   "execution_count": null,
   "metadata": {},
   "outputs": [],
   "source": [
    "def electric_field_none(x, t):\n",
    "    # zero E field\n",
    "    return np.array([0,0,0])\n",
    "\n",
    "def magnetic_field_toroidal(x, t):\n",
    "    # B in toroidal direction\n",
    "    return "
   ]
  },
  {
   "cell_type": "code",
   "execution_count": null,
   "metadata": {},
   "outputs": [],
   "source": [
    "# Initial conditions\n",
    "x0 = np.array([1.0, 0.0, 0.0])  # Initial position as a vector [x, y, z]\n",
    "v0 = 0.1*np.array([1, 1, 1])  # Initial velocity as a vector [vx, vy, vz]\n",
    "\n",
    "# Time parameters\n",
    "dt = 0.01  # Time step\n",
    "num_steps = 10000  # Number of time steps\n",
    "\n",
    "x, v, t = update_position(num_steps, dt, x0, v0, electric_field_none, magnetic_field_toroidal)\n",
    "plot3D(x, 'Toroidal B')"
   ]
  },
  {
   "cell_type": "markdown",
   "metadata": {},
   "source": [
    "### Exercise 4: Magnetic Mirrors\n",
    "\n",
    "<div style=\"text-align:center\">\n",
    "    <figure>\n",
    "        <img src=\"mirrors.svg\" alt=\"Magnetic Mirror\" style=\"width: 600px;background-color: white;\">\n",
    "        <figcaption>Fig.2 Magnetic Mirror</figcaption>\n",
    "    </figure>\n",
    "</div>\n",
    "\n",
    "A \"magnetic mirror\" field in cylindrical coordinates $r, \\theta, z$ can be expressed as \n",
    "\n",
    "$$\\mathbf{B}=(2 \\pi)^{-1} \\nabla \\psi \\times \\nabla \\theta$$ \n",
    "\n",
    "where\n",
    "\n",
    "$$\\psi=B_0 \\pi r^2\\left(1+\\left(\\dfrac{z}{L}\\right)^2\\right)$$\n",
    "\n",
    "where $L$ is a characteristic length. "
   ]
  },
  {
   "cell_type": "markdown",
   "metadata": {},
   "source": [
    "#### Questions\n",
    "1. Plot the contour of $\\psi$.\n",
    "2. Find the expression for the magnetic field $\\mathbf{B}$.\n",
    "2. Find the characteristic length, time, and velocity for an electron in this configuration.\n",
    "3. Numerically integrate the orbit of an electron starting at $x=0, y=L, z=0$ with initial velocity $v_x=0$ and initial $v_y, v_z$ of the order of the characteristic velocity (try different values).\n",
    "4. Plot the motion of the particle.\n",
    "5. What interesting phenomena can be observed (e.g., reflection)?\n",
    "6. Does the electron stay on a constant $\\psi$ contour?"
   ]
  },
  {
   "cell_type": "code",
   "execution_count": null,
   "metadata": {},
   "outputs": [],
   "source": [
    "# Magnetic Mirror\n",
    "def electric_field_mirror(x, t):\n",
    "    return\n",
    "\n",
    "def magnetic_field_mirror(x, t):\n",
    "    return "
   ]
  },
  {
   "cell_type": "markdown",
   "metadata": {},
   "source": [
    "### Exercise 5: Fermi Acceleration\n",
    "\n",
    ">What happen if we slowly decrease the characteristic length $L$?\n",
    "\n",
    "Consider the motion of a charged particle in the magnetic field\n",
    "$$\n",
    "\\mathbf{B}=\\frac{1}{2 \\pi} \\nabla \\psi(r, z, t) \\times \\nabla \\theta\n",
    "$$\n",
    "where\n",
    "$$\n",
    "\\psi(r, z, t)=B_{\\min } \\pi r^2\\left[1+2 \\lambda \\frac{\\zeta^2}{\\zeta^4+1}\\right]\n",
    "$$\n",
    "and\n",
    "$$\n",
    "\\zeta=\\frac{z}{L(t)} .\n",
    "$$\n",
    "\n",
    "#### Questions\n",
    "1. Show by explicit evaluation of the flux derivatives and also by plotting contours of constant flux that this is an example of a magnetic mirror field with minimum axial field $B_{\\min }$ when $z=0$ and maximum axial field $\\lambda B_{\\min }$ at $z=L(t)$.\n",
    "2. By making $L(t)$ a slowly decreasing function of time show that the magnetic mirrors slowly move together.\n",
    "3. Calculate $\\mathbf{E} (\\mathbf{x}, t)$ and $\\mathbf{B} (\\mathbf{x}, t)$.\n",
    "3. Using numerical techniques to integrate the equation of motion, demonstrate Fermi acceleration of a particle when the mirrors move slowly together.\n",
    "4. Plot the velocity space angle at $z=0$ for each bounce between mirrors and show that the particle becomes detrapped when this angle decreases below $\\theta_{\\text {trap }}=\\sin ^{-1}\\left(\\lambda^{-1}\\right)$.\n",
    "\n",
    "#### Hint\n",
    "$$\n",
    "\\begin{align*}\n",
    "L(t) &= L_0 - \\alpha t \\\\\n",
    "\\mathbf{B} &= \\frac{1}{2 \\pi} \\nabla \\psi \\times \\nabla \\theta\\\\\n",
    "\\mathbf{E} &= - \\frac{\\partial \\mathbf{A}}{\\partial t} \\\\\n",
    "\\mathbf{A} &= \\frac{\\psi}{2 \\pi} \\nabla \\theta\n",
    "\\end{align*}\n"
   ]
  },
  {
   "cell_type": "code",
   "execution_count": null,
   "metadata": {},
   "outputs": [],
   "source": [
    "def electric_field_fermi(x, t):\n",
    "    return\n",
    "\n",
    "def magnetic_field_fermi(x, t):\n",
    "    return "
   ]
  },
  {
   "cell_type": "markdown",
   "metadata": {},
   "source": [
    "### Exercise 6: Particle in Wave Fields\n",
    "\n",
    "Use the numerical Lorentz solver to calculate the motion of a charged particle in a uniform magnetic field $\\mathbf{B}=B \\hat{z}$ and an electric field given by \n",
    "\n",
    "$$\n",
    "\\mathbf{E} = k \\phi \\sin(k y - \\omega t) \\hat{y}\n",
    "$$\n",
    "\n",
    "#### Questions\n",
    "1. Compare the motion to the predictions of drift theory ($\\mathbf{E} \\times \\mathbf{B}$, polarization).\n",
    "2. Describe the motion for cases where $\\alpha<<1, \\alpha \\simeq 1$, and $\\alpha>>1$ where $\\alpha=m k^2 \\phi / q B^2$.\n",
    "3. Describe what happens when $\\alpha$ becomes of order unity."
   ]
  },
  {
   "cell_type": "code",
   "execution_count": null,
   "metadata": {},
   "outputs": [],
   "source": [
    "def electric_field_wave(x, t):\n",
    "    return \n",
    "\n",
    "def magnetic_field_uniform(x, t):\n",
    "    # uniform B field\n",
    "    return np.array([0, 0, 1])"
   ]
  }
 ],
 "metadata": {
  "kernelspec": {
   "display_name": "base",
   "language": "python",
   "name": "python3"
  },
  "language_info": {
   "codemirror_mode": {
    "name": "ipython",
    "version": 3
   },
   "file_extension": ".py",
   "mimetype": "text/x-python",
   "name": "python",
   "nbconvert_exporter": "python",
   "pygments_lexer": "ipython3",
   "version": "3.9.17"
  },
  "orig_nbformat": 4
 },
 "nbformat": 4,
 "nbformat_minor": 2
}
